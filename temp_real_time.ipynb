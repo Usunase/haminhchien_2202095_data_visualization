{
  "cells": [
    {
      "cell_type": "code",
      "source": [
        "import requests\n",
        "import plotly.graph_objects as go\n",
        "import time\n",
        "import csv\n",
        "import os\n",
        "import pytz\n",
        "from datetime import datetime\n",
        "from IPython.display import display, clear_output\n",
        "\n",
        "# OpenWeatherMap API Key\n",
        "api_key = \"85a5452456eef1609223fe91b8bc4fed\"  # Thay thế bằng API key của bạn\n",
        "base_url = \"http://api.openweathermap.org/data/2.5/weather?\"\n",
        "\n",
        "# Thành phố cần lấy dữ liệu thời tiết\n",
        "city = \"Dubai\"\n",
        "\n",
        "# Múi giờ Dubai\n",
        "dubai_tz = pytz.timezone(\"Asia/Dubai\")\n",
        "\n",
        "# Danh sách lưu trữ dữ liệu theo thời gian\n",
        "time_series = []\n",
        "temperature_series = []\n",
        "\n",
        "# File CSV để lưu trữ dữ liệu\n",
        "csv_filename = \"temperature_data.csv\"\n",
        "max_records = 200  # Số lần cập nhật tối đa trước khi xóa file\n",
        "\n",
        "def get_weather_data(city):\n",
        "    complete_url = f\"{base_url}q={city}&appid={api_key}&units=metric\"\n",
        "    response = requests.get(complete_url)\n",
        "    return response.json()\n",
        "\n",
        "def save_to_csv(timestamp, temperature):\n",
        "    global csv_filename\n",
        "    file_exists = os.path.isfile(csv_filename)\n",
        "\n",
        "    # Đọc số dòng hiện có để kiểm tra\n",
        "    if file_exists:\n",
        "        with open(csv_filename, \"r\") as f:\n",
        "            row_count = sum(1 for row in f) - 1  # Trừ dòng tiêu đề\n",
        "    else:\n",
        "        row_count = 0\n",
        "\n",
        "    # Nếu đã đạt giới hạn, xóa file cũ và tạo file mới\n",
        "    if row_count >= max_records:\n",
        "        os.remove(csv_filename)\n",
        "        print(\"Đã đạt giới hạn lưu trữ, tạo file mới.\")\n",
        "        file_exists = False  # Đánh dấu để tạo file mới\n",
        "\n",
        "    # Ghi dữ liệu vào file CSV\n",
        "    with open(csv_filename, \"a\", newline=\"\", encoding=\"utf-8\") as f:\n",
        "        writer = csv.writer(f)\n",
        "        if not file_exists:\n",
        "            writer.writerow([\"Thời gian (Dubai)\", \"Nhiệt độ Dubai (°C)\"])  # Ghi tiêu đề nếu file mới\n",
        "        writer.writerow([timestamp, temperature])\n",
        "\n",
        "def plot_realtime_temperature():\n",
        "    while True:\n",
        "        # Lấy thời gian thực của Dubai\n",
        "        current_time = datetime.now(dubai_tz).strftime(\"%H:%M:%S\")\n",
        "        time_series.append(current_time)\n",
        "\n",
        "        data = get_weather_data(city)\n",
        "        if data[\"cod\"] == 200:\n",
        "            main = data[\"main\"]\n",
        "            temperature = main[\"temp\"]\n",
        "            temperature_series.append(temperature)\n",
        "        else:\n",
        "            print(f\"Không thể lấy dữ liệu thời tiết của {city}.\")\n",
        "            temperature_series.append(None)\n",
        "\n",
        "        # Lưu dữ liệu vào CSV\n",
        "        save_to_csv(current_time, temperature)\n",
        "\n",
        "        # Giới hạn số điểm dữ liệu để thấy xu hướng dài hơn\n",
        "        if len(time_series) > 100:  # Lưu trữ 100 điểm (~1.5 giờ nếu cập nhật mỗi 1 phút)\n",
        "            time_series.pop(0)\n",
        "            temperature_series.pop(0)\n",
        "\n",
        "        # Vẽ biểu đồ\n",
        "        fig = go.Figure()\n",
        "        fig.add_trace(go.Scatter(x=time_series, y=temperature_series, mode='lines+markers', name='Nhiệt độ Dubai (°C)'))\n",
        "        fig.add_trace(go.Scatter(x=time_series, y=temperature_series, mode='lines', name='Xu hướng Dubai', line=dict(dash='dot')))\n",
        "\n",
        "        fig.update_layout(title=f\"Nhiệt độ real-time ở Dubai\",\n",
        "                          xaxis_title=\"Thời gian (Dubai)\",\n",
        "                          yaxis_title=\"Nhiệt độ (°C)\",\n",
        "                          xaxis=dict(tickangle=-45))\n",
        "\n",
        "        clear_output(wait=True)\n",
        "        display(fig)\n",
        "\n",
        "        time.sleep(60)  # Cập nhật mỗi 1 phút\n",
        "\n",
        "# Chạy hàm vẽ biểu đồ real-time\n",
        "plot_realtime_temperature()\n"
      ],
      "metadata": {
        "colab": {
          "base_uri": "https://localhost:8080/",
          "height": 542
        },
        "id": "EVh9ZeAyBPOb",
        "outputId": "e2678aa8-84e8-4c88-e5d7-2e1f139b94df"
      },
      "execution_count": null,
      "outputs": [
        {
          "output_type": "display_data",
          "data": {
            "text/html": [
              "<html>\n",
              "<head><meta charset=\"utf-8\" /></head>\n",
              "<body>\n",
              "    <div>            <script src=\"https://cdnjs.cloudflare.com/ajax/libs/mathjax/2.7.5/MathJax.js?config=TeX-AMS-MML_SVG\"></script><script type=\"text/javascript\">if (window.MathJax && window.MathJax.Hub && window.MathJax.Hub.Config) {window.MathJax.Hub.Config({SVG: {font: \"STIX-Web\"}});}</script>                <script type=\"text/javascript\">window.PlotlyConfig = {MathJaxConfig: 'local'};</script>\n",
              "        <script charset=\"utf-8\" src=\"https://cdn.plot.ly/plotly-2.35.2.min.js\"></script>                <div id=\"fd9472ce-94f4-48c2-b8e3-5f3743d579d4\" class=\"plotly-graph-div\" style=\"height:525px; width:100%;\"></div>            <script type=\"text/javascript\">                                    window.PLOTLYENV=window.PLOTLYENV || {};                                    if (document.getElementById(\"fd9472ce-94f4-48c2-b8e3-5f3743d579d4\")) {                    Plotly.newPlot(                        \"fd9472ce-94f4-48c2-b8e3-5f3743d579d4\",                        [{\"mode\":\"lines+markers\",\"name\":\"Nhiệt độ Dubai (°C)\",\"x\":[\"04:31:03\",\"04:32:05\",\"04:33:05\",\"04:34:05\",\"04:35:05\",\"04:36:05\",\"04:37:05\",\"04:38:05\",\"04:39:05\",\"04:40:05\",\"04:41:05\",\"04:42:05\",\"04:43:05\",\"04:44:05\",\"04:45:06\",\"04:46:06\",\"04:47:06\",\"04:48:06\",\"04:49:06\",\"04:50:06\",\"04:51:06\",\"04:52:06\",\"04:53:06\",\"04:54:06\",\"04:55:06\",\"04:56:06\",\"04:57:06\",\"04:58:07\",\"04:59:07\",\"05:00:07\",\"05:01:07\",\"05:02:07\",\"05:03:07\",\"05:04:07\",\"05:05:07\",\"05:06:07\",\"05:07:08\",\"05:08:08\",\"05:09:08\",\"05:10:08\",\"05:11:08\",\"05:12:08\",\"05:13:08\",\"05:14:08\",\"05:15:08\",\"05:16:08\",\"05:17:08\",\"05:18:08\",\"05:19:08\"],\"y\":[20.96,20.96,20.96,20.96,20.96,20.96,20.96,20.96,20.96,19.96,20.96,20.96,19.96,19.96,19.96,19.96,19.96,19.96,19.96,19.96,19.96,19.96,19.96,19.96,19.96,19.96,19.96,19.96,19.96,19.96,19.96,19.96,19.96,19.96,19.96,19.96,19.96,19.96,19.96,19.96,19.96,19.96,19.96,19.96,19.96,19.96,19.96,19.96,19.96],\"type\":\"scatter\"},{\"line\":{\"dash\":\"dot\"},\"mode\":\"lines\",\"name\":\"Xu hướng Dubai\",\"x\":[\"04:31:03\",\"04:32:05\",\"04:33:05\",\"04:34:05\",\"04:35:05\",\"04:36:05\",\"04:37:05\",\"04:38:05\",\"04:39:05\",\"04:40:05\",\"04:41:05\",\"04:42:05\",\"04:43:05\",\"04:44:05\",\"04:45:06\",\"04:46:06\",\"04:47:06\",\"04:48:06\",\"04:49:06\",\"04:50:06\",\"04:51:06\",\"04:52:06\",\"04:53:06\",\"04:54:06\",\"04:55:06\",\"04:56:06\",\"04:57:06\",\"04:58:07\",\"04:59:07\",\"05:00:07\",\"05:01:07\",\"05:02:07\",\"05:03:07\",\"05:04:07\",\"05:05:07\",\"05:06:07\",\"05:07:08\",\"05:08:08\",\"05:09:08\",\"05:10:08\",\"05:11:08\",\"05:12:08\",\"05:13:08\",\"05:14:08\",\"05:15:08\",\"05:16:08\",\"05:17:08\",\"05:18:08\",\"05:19:08\"],\"y\":[20.96,20.96,20.96,20.96,20.96,20.96,20.96,20.96,20.96,19.96,20.96,20.96,19.96,19.96,19.96,19.96,19.96,19.96,19.96,19.96,19.96,19.96,19.96,19.96,19.96,19.96,19.96,19.96,19.96,19.96,19.96,19.96,19.96,19.96,19.96,19.96,19.96,19.96,19.96,19.96,19.96,19.96,19.96,19.96,19.96,19.96,19.96,19.96,19.96],\"type\":\"scatter\"}],                        {\"template\":{\"data\":{\"histogram2dcontour\":[{\"type\":\"histogram2dcontour\",\"colorbar\":{\"outlinewidth\":0,\"ticks\":\"\"},\"colorscale\":[[0.0,\"#0d0887\"],[0.1111111111111111,\"#46039f\"],[0.2222222222222222,\"#7201a8\"],[0.3333333333333333,\"#9c179e\"],[0.4444444444444444,\"#bd3786\"],[0.5555555555555556,\"#d8576b\"],[0.6666666666666666,\"#ed7953\"],[0.7777777777777778,\"#fb9f3a\"],[0.8888888888888888,\"#fdca26\"],[1.0,\"#f0f921\"]]}],\"choropleth\":[{\"type\":\"choropleth\",\"colorbar\":{\"outlinewidth\":0,\"ticks\":\"\"}}],\"histogram2d\":[{\"type\":\"histogram2d\",\"colorbar\":{\"outlinewidth\":0,\"ticks\":\"\"},\"colorscale\":[[0.0,\"#0d0887\"],[0.1111111111111111,\"#46039f\"],[0.2222222222222222,\"#7201a8\"],[0.3333333333333333,\"#9c179e\"],[0.4444444444444444,\"#bd3786\"],[0.5555555555555556,\"#d8576b\"],[0.6666666666666666,\"#ed7953\"],[0.7777777777777778,\"#fb9f3a\"],[0.8888888888888888,\"#fdca26\"],[1.0,\"#f0f921\"]]}],\"heatmap\":[{\"type\":\"heatmap\",\"colorbar\":{\"outlinewidth\":0,\"ticks\":\"\"},\"colorscale\":[[0.0,\"#0d0887\"],[0.1111111111111111,\"#46039f\"],[0.2222222222222222,\"#7201a8\"],[0.3333333333333333,\"#9c179e\"],[0.4444444444444444,\"#bd3786\"],[0.5555555555555556,\"#d8576b\"],[0.6666666666666666,\"#ed7953\"],[0.7777777777777778,\"#fb9f3a\"],[0.8888888888888888,\"#fdca26\"],[1.0,\"#f0f921\"]]}],\"heatmapgl\":[{\"type\":\"heatmapgl\",\"colorbar\":{\"outlinewidth\":0,\"ticks\":\"\"},\"colorscale\":[[0.0,\"#0d0887\"],[0.1111111111111111,\"#46039f\"],[0.2222222222222222,\"#7201a8\"],[0.3333333333333333,\"#9c179e\"],[0.4444444444444444,\"#bd3786\"],[0.5555555555555556,\"#d8576b\"],[0.6666666666666666,\"#ed7953\"],[0.7777777777777778,\"#fb9f3a\"],[0.8888888888888888,\"#fdca26\"],[1.0,\"#f0f921\"]]}],\"contourcarpet\":[{\"type\":\"contourcarpet\",\"colorbar\":{\"outlinewidth\":0,\"ticks\":\"\"}}],\"contour\":[{\"type\":\"contour\",\"colorbar\":{\"outlinewidth\":0,\"ticks\":\"\"},\"colorscale\":[[0.0,\"#0d0887\"],[0.1111111111111111,\"#46039f\"],[0.2222222222222222,\"#7201a8\"],[0.3333333333333333,\"#9c179e\"],[0.4444444444444444,\"#bd3786\"],[0.5555555555555556,\"#d8576b\"],[0.6666666666666666,\"#ed7953\"],[0.7777777777777778,\"#fb9f3a\"],[0.8888888888888888,\"#fdca26\"],[1.0,\"#f0f921\"]]}],\"surface\":[{\"type\":\"surface\",\"colorbar\":{\"outlinewidth\":0,\"ticks\":\"\"},\"colorscale\":[[0.0,\"#0d0887\"],[0.1111111111111111,\"#46039f\"],[0.2222222222222222,\"#7201a8\"],[0.3333333333333333,\"#9c179e\"],[0.4444444444444444,\"#bd3786\"],[0.5555555555555556,\"#d8576b\"],[0.6666666666666666,\"#ed7953\"],[0.7777777777777778,\"#fb9f3a\"],[0.8888888888888888,\"#fdca26\"],[1.0,\"#f0f921\"]]}],\"mesh3d\":[{\"type\":\"mesh3d\",\"colorbar\":{\"outlinewidth\":0,\"ticks\":\"\"}}],\"scatter\":[{\"fillpattern\":{\"fillmode\":\"overlay\",\"size\":10,\"solidity\":0.2},\"type\":\"scatter\"}],\"parcoords\":[{\"type\":\"parcoords\",\"line\":{\"colorbar\":{\"outlinewidth\":0,\"ticks\":\"\"}}}],\"scatterpolargl\":[{\"type\":\"scatterpolargl\",\"marker\":{\"colorbar\":{\"outlinewidth\":0,\"ticks\":\"\"}}}],\"bar\":[{\"error_x\":{\"color\":\"#2a3f5f\"},\"error_y\":{\"color\":\"#2a3f5f\"},\"marker\":{\"line\":{\"color\":\"#E5ECF6\",\"width\":0.5},\"pattern\":{\"fillmode\":\"overlay\",\"size\":10,\"solidity\":0.2}},\"type\":\"bar\"}],\"scattergeo\":[{\"type\":\"scattergeo\",\"marker\":{\"colorbar\":{\"outlinewidth\":0,\"ticks\":\"\"}}}],\"scatterpolar\":[{\"type\":\"scatterpolar\",\"marker\":{\"colorbar\":{\"outlinewidth\":0,\"ticks\":\"\"}}}],\"histogram\":[{\"marker\":{\"pattern\":{\"fillmode\":\"overlay\",\"size\":10,\"solidity\":0.2}},\"type\":\"histogram\"}],\"scattergl\":[{\"type\":\"scattergl\",\"marker\":{\"colorbar\":{\"outlinewidth\":0,\"ticks\":\"\"}}}],\"scatter3d\":[{\"type\":\"scatter3d\",\"line\":{\"colorbar\":{\"outlinewidth\":0,\"ticks\":\"\"}},\"marker\":{\"colorbar\":{\"outlinewidth\":0,\"ticks\":\"\"}}}],\"scattermapbox\":[{\"type\":\"scattermapbox\",\"marker\":{\"colorbar\":{\"outlinewidth\":0,\"ticks\":\"\"}}}],\"scatterternary\":[{\"type\":\"scatterternary\",\"marker\":{\"colorbar\":{\"outlinewidth\":0,\"ticks\":\"\"}}}],\"scattercarpet\":[{\"type\":\"scattercarpet\",\"marker\":{\"colorbar\":{\"outlinewidth\":0,\"ticks\":\"\"}}}],\"carpet\":[{\"aaxis\":{\"endlinecolor\":\"#2a3f5f\",\"gridcolor\":\"white\",\"linecolor\":\"white\",\"minorgridcolor\":\"white\",\"startlinecolor\":\"#2a3f5f\"},\"baxis\":{\"endlinecolor\":\"#2a3f5f\",\"gridcolor\":\"white\",\"linecolor\":\"white\",\"minorgridcolor\":\"white\",\"startlinecolor\":\"#2a3f5f\"},\"type\":\"carpet\"}],\"table\":[{\"cells\":{\"fill\":{\"color\":\"#EBF0F8\"},\"line\":{\"color\":\"white\"}},\"header\":{\"fill\":{\"color\":\"#C8D4E3\"},\"line\":{\"color\":\"white\"}},\"type\":\"table\"}],\"barpolar\":[{\"marker\":{\"line\":{\"color\":\"#E5ECF6\",\"width\":0.5},\"pattern\":{\"fillmode\":\"overlay\",\"size\":10,\"solidity\":0.2}},\"type\":\"barpolar\"}],\"pie\":[{\"automargin\":true,\"type\":\"pie\"}]},\"layout\":{\"autotypenumbers\":\"strict\",\"colorway\":[\"#636efa\",\"#EF553B\",\"#00cc96\",\"#ab63fa\",\"#FFA15A\",\"#19d3f3\",\"#FF6692\",\"#B6E880\",\"#FF97FF\",\"#FECB52\"],\"font\":{\"color\":\"#2a3f5f\"},\"hovermode\":\"closest\",\"hoverlabel\":{\"align\":\"left\"},\"paper_bgcolor\":\"white\",\"plot_bgcolor\":\"#E5ECF6\",\"polar\":{\"bgcolor\":\"#E5ECF6\",\"angularaxis\":{\"gridcolor\":\"white\",\"linecolor\":\"white\",\"ticks\":\"\"},\"radialaxis\":{\"gridcolor\":\"white\",\"linecolor\":\"white\",\"ticks\":\"\"}},\"ternary\":{\"bgcolor\":\"#E5ECF6\",\"aaxis\":{\"gridcolor\":\"white\",\"linecolor\":\"white\",\"ticks\":\"\"},\"baxis\":{\"gridcolor\":\"white\",\"linecolor\":\"white\",\"ticks\":\"\"},\"caxis\":{\"gridcolor\":\"white\",\"linecolor\":\"white\",\"ticks\":\"\"}},\"coloraxis\":{\"colorbar\":{\"outlinewidth\":0,\"ticks\":\"\"}},\"colorscale\":{\"sequential\":[[0.0,\"#0d0887\"],[0.1111111111111111,\"#46039f\"],[0.2222222222222222,\"#7201a8\"],[0.3333333333333333,\"#9c179e\"],[0.4444444444444444,\"#bd3786\"],[0.5555555555555556,\"#d8576b\"],[0.6666666666666666,\"#ed7953\"],[0.7777777777777778,\"#fb9f3a\"],[0.8888888888888888,\"#fdca26\"],[1.0,\"#f0f921\"]],\"sequentialminus\":[[0.0,\"#0d0887\"],[0.1111111111111111,\"#46039f\"],[0.2222222222222222,\"#7201a8\"],[0.3333333333333333,\"#9c179e\"],[0.4444444444444444,\"#bd3786\"],[0.5555555555555556,\"#d8576b\"],[0.6666666666666666,\"#ed7953\"],[0.7777777777777778,\"#fb9f3a\"],[0.8888888888888888,\"#fdca26\"],[1.0,\"#f0f921\"]],\"diverging\":[[0,\"#8e0152\"],[0.1,\"#c51b7d\"],[0.2,\"#de77ae\"],[0.3,\"#f1b6da\"],[0.4,\"#fde0ef\"],[0.5,\"#f7f7f7\"],[0.6,\"#e6f5d0\"],[0.7,\"#b8e186\"],[0.8,\"#7fbc41\"],[0.9,\"#4d9221\"],[1,\"#276419\"]]},\"xaxis\":{\"gridcolor\":\"white\",\"linecolor\":\"white\",\"ticks\":\"\",\"title\":{\"standoff\":15},\"zerolinecolor\":\"white\",\"automargin\":true,\"zerolinewidth\":2},\"yaxis\":{\"gridcolor\":\"white\",\"linecolor\":\"white\",\"ticks\":\"\",\"title\":{\"standoff\":15},\"zerolinecolor\":\"white\",\"automargin\":true,\"zerolinewidth\":2},\"scene\":{\"xaxis\":{\"backgroundcolor\":\"#E5ECF6\",\"gridcolor\":\"white\",\"linecolor\":\"white\",\"showbackground\":true,\"ticks\":\"\",\"zerolinecolor\":\"white\",\"gridwidth\":2},\"yaxis\":{\"backgroundcolor\":\"#E5ECF6\",\"gridcolor\":\"white\",\"linecolor\":\"white\",\"showbackground\":true,\"ticks\":\"\",\"zerolinecolor\":\"white\",\"gridwidth\":2},\"zaxis\":{\"backgroundcolor\":\"#E5ECF6\",\"gridcolor\":\"white\",\"linecolor\":\"white\",\"showbackground\":true,\"ticks\":\"\",\"zerolinecolor\":\"white\",\"gridwidth\":2}},\"shapedefaults\":{\"line\":{\"color\":\"#2a3f5f\"}},\"annotationdefaults\":{\"arrowcolor\":\"#2a3f5f\",\"arrowhead\":0,\"arrowwidth\":1},\"geo\":{\"bgcolor\":\"white\",\"landcolor\":\"#E5ECF6\",\"subunitcolor\":\"white\",\"showland\":true,\"showlakes\":true,\"lakecolor\":\"white\"},\"title\":{\"x\":0.05},\"mapbox\":{\"style\":\"light\"}}},\"xaxis\":{\"title\":{\"text\":\"Thời gian (Dubai)\"},\"tickangle\":-45},\"title\":{\"text\":\"Nhiệt độ real-time ở Dubai\"},\"yaxis\":{\"title\":{\"text\":\"Nhiệt độ (°C)\"}}},                        {\"responsive\": true}                    ).then(function(){\n",
              "                            \n",
              "var gd = document.getElementById('fd9472ce-94f4-48c2-b8e3-5f3743d579d4');\n",
              "var x = new MutationObserver(function (mutations, observer) {{\n",
              "        var display = window.getComputedStyle(gd).display;\n",
              "        if (!display || display === 'none') {{\n",
              "            console.log([gd, 'removed!']);\n",
              "            Plotly.purge(gd);\n",
              "            observer.disconnect();\n",
              "        }}\n",
              "}});\n",
              "\n",
              "// Listen for the removal of the full notebook cells\n",
              "var notebookContainer = gd.closest('#notebook-container');\n",
              "if (notebookContainer) {{\n",
              "    x.observe(notebookContainer, {childList: true});\n",
              "}}\n",
              "\n",
              "// Listen for the clearing of the current output cell\n",
              "var outputEl = gd.closest('.output');\n",
              "if (outputEl) {{\n",
              "    x.observe(outputEl, {childList: true});\n",
              "}}\n",
              "\n",
              "                        })                };                            </script>        </div>\n",
              "</body>\n",
              "</html>"
            ]
          },
          "metadata": {}
        }
      ]
    },
    {
      "cell_type": "markdown",
      "source": [
        "Mô tả hoạt động của mã Python theo dõi nhiệt độ real-time tại Dubai\n",
        "Mã Python trên có chức năng lấy dữ liệu nhiệt độ thực tế của Dubai theo thời gian thực từ OpenWeatherMap API và hiển thị biểu đồ động để trực quan hóa sự thay đổi nhiệt độ theo thời gian. Ngoài ra, dữ liệu nhiệt độ cũng được lưu vào file CSV để phục vụ phân tích sau này."
      ],
      "metadata": {
        "id": "Q2CjRlNkLTDB"
      }
    }
  ],
  "metadata": {
    "colab": {
      "provenance": []
    },
    "kernelspec": {
      "display_name": "Python 3",
      "name": "python3"
    },
    "language_info": {
      "name": "python"
    }
  },
  "nbformat": 4,
  "nbformat_minor": 0
}